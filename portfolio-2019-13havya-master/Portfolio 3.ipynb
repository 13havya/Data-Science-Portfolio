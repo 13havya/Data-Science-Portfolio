{
 "cells": [
  {
   "cell_type": "markdown",
   "metadata": {},
   "source": [
    "# Portfolio 3 - Clustering Visualisation"
   ]
  },
  {
   "cell_type": "markdown",
   "metadata": {},
   "source": [
    "K-means clustering is one of the simplest and popular unsupervised learning algorithms. Typically, unsupervised algorithms make inferences from datasets using only input vectors without referring to known, or labelled, outcomes. This notebook illustrates the process of K-means clustering by generating some random clusters of data and then showing the iterations of the algorithm as random cluster means are updated. \n",
    "\n",
    "We first generate random data around 4 centers."
   ]
  },
  {
   "cell_type": "code",
   "execution_count": null,
   "metadata": {},
   "outputs": [],
   "source": [
    "import numpy as np \n",
    "import pandas as pd \n",
    "from matplotlib import pyplot as plt\n",
    "%matplotlib inline\n",
    "import seaborn as sns"
   ]
  },
  {
   "cell_type": "code",
   "execution_count": null,
   "metadata": {},
   "outputs": [],
   "source": [
    "center_1 = np.array([1,2])\n",
    "center_2 = np.array([6,6])\n",
    "center_3 = np.array([9,1])\n",
    "center_4 = np.array([-5,-1])\n",
    "\n",
    "# Generate random data and center it to the four centers each with a different variance\n",
    "np.random.seed(5)\n",
    "data_1 = np.random.randn(200,2) * 1.5 + center_1\n",
    "data_2 = np.random.randn(200,2) * 1 + center_2\n",
    "data_3 = np.random.randn(200,2) * 0.5 + center_3\n",
    "data_4 = np.random.randn(200,2) * 0.8 + center_4\n",
    "\n",
    "data = np.concatenate((data_1, data_2, data_3, data_4), axis = 0)\n",
    "\n",
    "plt.scatter(data[:,0], data[:,1], s=7, c='k', alpha = 0.5)\n",
    "plt.show()"
   ]
  },
  {
   "cell_type": "markdown",
   "metadata": {},
   "source": [
    "## 1. Generate random cluster centres\n",
    "\n",
    "You need to generate four random centres.\n",
    "\n",
    "This part of portfolio should contain at least:  \n",
    "- The number of clusters `k` is set to 4;\n",
    "- Generate random centres via `centres = np.random.randn(k,c)*std + mean` where `std` and `mean` are the standard deviation and mean of the data. `c` represents the number of features in the data. Set the random seed to 6.\n",
    "- Color the generated centers with `green`, `blue`, `yellow`, and `cyan`. Set the edgecolors to `red`."
   ]
  },
  {
   "cell_type": "code",
   "execution_count": null,
   "metadata": {},
   "outputs": [],
   "source": [
    "import random\n",
    "k = 4\n",
    "std = np.std(data)\n",
    "mean = np.mean(data)\n"
   ]
  },
  {
   "cell_type": "code",
   "execution_count": null,
   "metadata": {},
   "outputs": [],
   "source": [
    "np.random.seed(6)\n",
    "centres = np.random.randn(k,2)*std + mean\n",
    "centres"
   ]
  },
  {
   "cell_type": "code",
   "execution_count": null,
   "metadata": {
    "scrolled": true
   },
   "outputs": [],
   "source": [
    "for point in data:\n",
    "    plt.scatter(point[0], point[1], c = 'k', alpha = 0.7, s = 9)\n",
    "for centre in centres:\n",
    "    plt.scatter(centre[0], centre[1], edgecolors='r', s = 100)"
   ]
  },
  {
   "cell_type": "markdown",
   "metadata": {},
   "source": [
    "## 2. Visualise the clustering results in each iteration\n",
    "\n",
    "### *Explanation of K-Means Algorithm* ###\n",
    "\n",
    "The k-means algorithm comprises of 3 functions : **euclidean**, **\\_4means\\_clustering** and **centre_updates**\n",
    "\n",
    "#### *Euclidean*####\n",
    "\n",
    "Takes two arguments *datapoints* and *centre*. Datapoints should be an array of points on the 2-d plane in the (x,y) format, while *centre* should be a singular point. It calculates the Euclidean distance between two points, which is given by the formula:\n",
    "\n",
    "<center>$ D = \\sqrt{(x-a)^2 + (y-b)^2)} $ </center>\n",
    "\n",
    "where $ (x,y) $ are the coordinates of the centre, while the point $ P $ is located at $ (a,b) $ . The function returns *distlist*, a list containing the euclidean distance of each datapoint from the centre\n",
    "\n",
    "#### *\\_4means\\_clustering*####\n",
    "\n",
    "This function is used specifically for this case of k-means clustering with $ k = 4 $. It takes the parameters *datapoints* (similar to datapoints parameter of euclidean), and *centrepoints*, a numpy array containing the 4 centres' coordinates. It makes use of the euclidean function to create 4 numpy arrays, containing the distance of each datapoint from each of the 4 centres. \n",
    "\n",
    "It then compares each element of the resulting 4 arrays, with elements of the same index (i.e. first element across all arrays, second element across all arrays and so on), and appends the minimum value from the distances to a list.\n",
    "\n",
    "Then we create 4 boolean lists, which indicate whether the point was closest to centre 1, centre 2, centre 3, or centre 4. It fills True for whichever centre it is closest to, and false otherwise. \n",
    "\n",
    "Then it appends the points which are closer to centre 1 under cluster 1 and so on. \n",
    "\n",
    "We now have 4 lists, representing the 4 clusters, each containing coordinates of all points which fall into that cluster. We store these as numpy arrays :*first, second, third and fourth.*\n",
    "\n",
    "We then plot these points according to the color code:\n",
    "\n",
    "| Cluster | Color |\n",
    "| --- | --- | \n",
    "| 1 | Green |\n",
    "| 2 | Blue |\n",
    "| 3 | Yellow |\n",
    "| 4 | Cyan |\n",
    "\n",
    "\n",
    "#### *centre_updates* ####\n",
    "\n",
    "This function is responsible for plotting and updating centres. It is to be noted\\* that from the second iteration onwards, the centre_updates function is responsible for plotting the data and centres, and also updating the centres. It also stores value of previous centres in the list *centre_history*\n",
    "\n",
    "Centres are updated by taking the mean value of all points of a cluster, and assigning them to a variable. This variable is then appended to a new global variable - *newcentres*, which stores the new centres in an array format. The function also contains a call to the \\_4means\\_clustering function. Due to this, the function is able to plot the data along with the centres, and update the centres. \n",
    "\n",
    "\n",
    "<small> \\**Note that in the first iteration, our centres were already defined, and hence there was no need to update centres*"
   ]
  },
  {
   "cell_type": "code",
   "execution_count": null,
   "metadata": {},
   "outputs": [],
   "source": [
    "centre_history = []"
   ]
  },
  {
   "cell_type": "code",
   "execution_count": null,
   "metadata": {},
   "outputs": [],
   "source": [
    "def euclidean (datapoints, centre):\n",
    "    ##Calculate Euclidean distance between all points in data and a particular centre\n",
    "    distlist = []\n",
    "    for point in datapoints:\n",
    "        distlist.append(round(np.linalg.norm(point-centre), 5))\n",
    "    return distlist"
   ]
  },
  {
   "cell_type": "code",
   "execution_count": null,
   "metadata": {},
   "outputs": [],
   "source": [
    "def _4means_clustering(datapoints, centrepoints):\n",
    "    dist1 = np.array(euclidean(data, centrepoints[0]))\n",
    "    dist2 = np.array(euclidean(data, centrepoints[1]))\n",
    "    dist3 = np.array(euclidean(data, centrepoints[2]))\n",
    "    dist4 = np.array(euclidean(data, centrepoints[3]))\n",
    "    z = []\n",
    "    for i in range(len(dist1)):\n",
    "        z.append(min(dist1[i], dist2[i], dist3[i], dist4[i]))\n",
    "    in_1 = []\n",
    "    in_2 = []\n",
    "    in_3 = []\n",
    "    in_4 = []\n",
    "    for item in z:\n",
    "        in_1.append(item in dist1)\n",
    "        in_2.append(item in dist2)\n",
    "        in_3.append(item in dist3)\n",
    "        in_4.append(item in dist4)\n",
    "    cluster1 = []\n",
    "    cluster2 = []\n",
    "    cluster3 = []\n",
    "    cluster4 = []\n",
    "    for i in range(len(data)):\n",
    "        if (in_1[i]):\n",
    "            cluster1.append(data[i])\n",
    "        elif(in_2[i]):\n",
    "            cluster2.append(data[i])\n",
    "        elif(in_3[i]):\n",
    "            cluster3.append(data[i])\n",
    "        elif(in_4[i]):\n",
    "            cluster4.append(data[i])\n",
    "    global first, second, third, fourth ##Create global variables indicating first, second, third, fourth clusters\n",
    "    first = np.array(cluster1)\n",
    "    second = np.array(cluster2)\n",
    "    third = np.array(cluster3)\n",
    "    fourth = np.array(cluster4)\n",
    "\n",
    "    \n",
    "    ##Plot clusters as per color code\n",
    "    for dot in data:\n",
    "        if (dot in first):\n",
    "            plt.scatter(dot[0], dot[1], c = 'green')\n",
    "        elif (dot in second):\n",
    "            plt.scatter(dot[0], dot[1], c = 'blue')\n",
    "        elif (dot in third):\n",
    "            plt.scatter(dot[0], dot[1], c = 'yellow')\n",
    "        elif (dot in fourth):\n",
    "            plt.scatter(dot[0], dot[1], c = 'cyan')"
   ]
  },
  {
   "cell_type": "code",
   "execution_count": null,
   "metadata": {},
   "outputs": [],
   "source": [
    "def centre_updates():\n",
    "    global newcentres ##New centres\n",
    "    c1 = np.array([first[:,0].mean(), first[:,1].mean()])\n",
    "    c2 = np.array([second[:,0].mean(), second[:,1].mean()])\n",
    "    c3 = np.array([third[:,0].mean(), third[:,1].mean()])\n",
    "    c4 = np.array([fourth[:,0].mean(), fourth[:,1].mean()])\n",
    "    centrelist = [c1,c2,c3,c4]\n",
    "    \n",
    "    \n",
    "    newcentres = np.array(centrelist)\n",
    "    \n",
    "    _4means_clustering(data, newcentres)\n",
    "    \n",
    "    ##Plot centers as per color code\n",
    "    plt.scatter(newcentres[0][0], newcentres[0][1], c = 'green', edgecolors='r', s = 70)\n",
    "    plt.scatter(newcentres[1][0], newcentres[1][1], c = 'blue', edgecolors='r', s = 70)\n",
    "    plt.scatter(newcentres[2][0], newcentres[2][1], c = 'yellow', edgecolors='r', s = 70)\n",
    "    plt.scatter(newcentres[3][0], newcentres[3][1], c = 'cyan', edgecolors='r', s = 70)\n",
    "    centre_history.append(newcentres)"
   ]
  },
  {
   "cell_type": "code",
   "execution_count": null,
   "metadata": {},
   "outputs": [],
   "source": [
    "fig = plt.figure(figsize=(50,10))\n",
    "fig.add_subplot(1,10,1)\n",
    "plt.scatter(data_1[:, 0], data_1[:,1])\n",
    "fig.add_subplot(2,10,1)\n",
    "plt.scatter(10,5)\n",
    "fig.add_subplot(3,10,1)"
   ]
  },
  {
   "cell_type": "code",
   "execution_count": null,
   "metadata": {},
   "outputs": [],
   "source": [
    "_4means_clustering(data, centres), centre_updates()"
   ]
  },
  {
   "cell_type": "code",
   "execution_count": null,
   "metadata": {},
   "outputs": [],
   "source": [
    "centre_updates()"
   ]
  },
  {
   "cell_type": "code",
   "execution_count": null,
   "metadata": {},
   "outputs": [],
   "source": [
    "centre_updates()"
   ]
  },
  {
   "cell_type": "code",
   "execution_count": null,
   "metadata": {},
   "outputs": [],
   "source": [
    "centre_updates()"
   ]
  },
  {
   "cell_type": "code",
   "execution_count": null,
   "metadata": {},
   "outputs": [],
   "source": [
    "centre_updates()"
   ]
  },
  {
   "cell_type": "code",
   "execution_count": null,
   "metadata": {},
   "outputs": [],
   "source": [
    "for centre in centre_history:\n",
    "    print(centre)"
   ]
  },
  {
   "cell_type": "code",
   "execution_count": null,
   "metadata": {},
   "outputs": [],
   "source": []
  }
 ],
 "metadata": {
  "kernelspec": {
   "display_name": "Python 3",
   "language": "python",
   "name": "python3"
  },
  "language_info": {
   "codemirror_mode": {
    "name": "ipython",
    "version": 3
   },
   "file_extension": ".py",
   "mimetype": "text/x-python",
   "name": "python",
   "nbconvert_exporter": "python",
   "pygments_lexer": "ipython3",
   "version": "3.7.3"
  }
 },
 "nbformat": 4,
 "nbformat_minor": 2
}
